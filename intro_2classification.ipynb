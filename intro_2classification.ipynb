{
  "nbformat": 4,
  "nbformat_minor": 0,
  "metadata": {
    "colab": {
      "name": "intro_2classification.ipynb",
      "provenance": [],
      "collapsed_sections": [],
      "authorship_tag": "ABX9TyOb9rZjBiSIGdT3b96IN04J",
      "include_colab_link": true
    },
    "kernelspec": {
      "name": "python3",
      "display_name": "Python 3"
    },
    "language_info": {
      "name": "python"
    }
  },
  "cells": [
    {
      "cell_type": "markdown",
      "metadata": {
        "id": "view-in-github",
        "colab_type": "text"
      },
      "source": [
        "<a href=\"https://colab.research.google.com/github/chrysfarias/machine-learning-intro/blob/main/intro_2classification.ipynb\" target=\"_parent\"><img src=\"https://colab.research.google.com/assets/colab-badge.svg\" alt=\"Open In Colab\"/></a>"
      ]
    },
    {
      "cell_type": "code",
      "execution_count": null,
      "metadata": {
        "id": "zbUlIsF5RRfx"
      },
      "outputs": [],
      "source": [
        "import pandas as pd\n",
        "uri =\"https://gist.githubusercontent.com/guilhermesilveira/2d2efa37d66b6c84a722ea627a897ced/raw/10968b997d885cbded1c92938c7a9912ba41c615/tracking.csv\"\n",
        "data= pd.read_csv(uri)\n",
        "\n",
        "data.head()"
      ]
    },
    {
      "cell_type": "code",
      "source": [
        "x = data[[\"home\",\"how_it_works\",\"contact\"]]"
      ],
      "metadata": {
        "id": "hJWzclHrR55I"
      },
      "execution_count": 9,
      "outputs": []
    },
    {
      "cell_type": "code",
      "source": [
        "y = data[\"bought\"]"
      ],
      "metadata": {
        "id": "zlF0_AIET9r3"
      },
      "execution_count": 12,
      "outputs": []
    },
    {
      "cell_type": "code",
      "source": [
        "y.head()\n"
      ],
      "metadata": {
        "id": "YleU0v17UFwp"
      },
      "execution_count": null,
      "outputs": []
    },
    {
      "cell_type": "code",
      "source": [
        "data.shape  \n"
      ],
      "metadata": {
        "id": "XifOITYmXOW8"
      },
      "execution_count": null,
      "outputs": []
    },
    {
      "cell_type": "markdown",
      "source": [
        "#using  library to sepate train and testing"
      ],
      "metadata": {
        "id": "PmJpsWCyj7rY"
      }
    },
    {
      "cell_type": "code",
      "source": [
        " from sklearn.model_selection import train_test_split  \n",
        "\n",
        "train_x, test_x, train_y, test_y = train_test_split(x,y, test_size = 0.25)   #separating training from testing\n",
        "\n",
        "\n",
        "from sklearn.svm import LinearSVC\n",
        "from sklearn.metrics import accuracy_score\n",
        "\n",
        "model = LinearSVC()\n",
        "model.fit(train_x  , train_y)\n",
        "predictions = model.predict(test_x)\n",
        "\n",
        "#compare predictions with the test \n",
        "\n",
        "accuracy = accuracy_score(test_y, predictions) *100\n",
        "\n",
        "print(\"we'll train with %d and we'll test with %d\" % (len(train_x), len(test_x)))\n",
        "\n",
        "print(\"The accuracy was %.2f%% \" % accuracy)"
      ],
      "metadata": {
        "id": "8Ih8oP94XO35",
        "colab": {
          "base_uri": "https://localhost:8080/"
        },
        "outputId": "cfdc0395-52f2-4f71-9117-163585753e9d"
      },
      "execution_count": 41,
      "outputs": [
        {
          "output_type": "stream",
          "name": "stdout",
          "text": [
            "we'll train with 74 and we'll test with 25\n",
            "The accuracy was 96.00% \n"
          ]
        }
      ]
    },
    {
      "cell_type": "code",
      "source": [
        ""
      ],
      "metadata": {
        "id": "oSSza_wjhknB"
      },
      "execution_count": null,
      "outputs": []
    }
  ]
}