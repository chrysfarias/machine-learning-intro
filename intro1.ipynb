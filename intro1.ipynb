{
  "nbformat": 4,
  "nbformat_minor": 0,
  "metadata": {
    "colab": {
      "name": "Untitled0.ipynb",
      "provenance": [],
      "collapsed_sections": [],
      "authorship_tag": "ABX9TyMGzAalj7MxvzWg4Hz9LNBW",
      "include_colab_link": true
    },
    "kernelspec": {
      "name": "python3",
      "display_name": "Python 3"
    },
    "language_info": {
      "name": "python"
    }
  },
  "cells": [
    {
      "cell_type": "markdown",
      "metadata": {
        "id": "view-in-github",
        "colab_type": "text"
      },
      "source": [
        "<a href=\"https://colab.research.google.com/github/chrysfarias/machine-learning-intro/blob/main/intro1.ipynb\" target=\"_parent\"><img src=\"https://colab.research.google.com/assets/colab-badge.svg\" alt=\"Open In Colab\"/></a>"
      ]
    },
    {
      "cell_type": "code",
      "execution_count": 29,
      "metadata": {
        "id": "XOXGxLv5sto4"
      },
      "outputs": [],
      "source": [
        "#features (1 yes, 0 no)\n",
        "#long fur?\n",
        "#short leg?\n",
        "#bark?\n",
        "\n",
        "pig1 = [0, 1, 0]\n",
        "pig2 = [0, 1, 1]\n",
        "pig3 = [1, 1, 0]\n",
        "\n",
        "dog1 = [0, 1, 1]\n",
        "dog2 = [1, 0, 1]\n",
        "dog3 = [1, 1, 1]\n",
        "\n",
        "# 1 => pig,  0 => dog\n",
        "\n",
        "data    = [pig1, pig2, pig3, dog1, dog2, dog3]\n",
        "classes = [1, 1, 1, 0, 0, 0]"
      ]
    },
    {
      "cell_type": "code",
      "source": [
        "from sklearn.svm import LinearSVC\n",
        "\n",
        "model = LinearSVC()\n",
        "model.fit(data, classes)\n"
      ],
      "metadata": {
        "colab": {
          "base_uri": "https://localhost:8080/"
        },
        "id": "iY9ke8tJwgEf",
        "outputId": "fd4dc712-9116-4c65-9180-681a5a08af5e"
      },
      "execution_count": 28,
      "outputs": [
        {
          "output_type": "execute_result",
          "data": {
            "text/plain": [
              "LinearSVC()"
            ]
          },
          "metadata": {},
          "execution_count": 28
        }
      ]
    },
    {
      "cell_type": "code",
      "source": [
        "mysterious_animal1 = [1, 1, 1]  \n",
        "mysterious_animal2 = [1, 1, 0]  \n",
        "mysterious_animal3 = [0, 1, 1]   \n",
        "\n",
        "\n",
        "tests = [mysterious_animal1, mysterious_animal2, mysterious_animal3]\n",
        "predictions = model.predict(tests)\n"
      ],
      "metadata": {
        "id": "IQHwH9i-0mfA"
      },
      "execution_count": 27,
      "outputs": []
    },
    {
      "cell_type": "code",
      "source": [
        "tests_classes = [0,1,1]"
      ],
      "metadata": {
        "id": "-OaBGmMck9mF"
      },
      "execution_count": 31,
      "outputs": []
    },
    {
      "cell_type": "code",
      "source": [
        "correct = (predictions == tests_classes).sum()  ## return the number of true\n",
        "total   = tests_classes\n",
        "\n"
      ],
      "metadata": {
        "id": "Dik-Q1CHlAHZ"
      },
      "execution_count": null,
      "outputs": []
    },
    {
      "cell_type": "code",
      "source": [
        "from sklearn.metrics import accuracy_score\n",
        "hit_rate = accuracy_score(tests_classes,predictions)\n",
        "print(\"hit rate: {} \".format(hit_rate*100))"
      ],
      "metadata": {
        "id": "zTTangdWtWYR"
      },
      "execution_count": null,
      "outputs": []
    },
    {
      "cell_type": "code",
      "source": [
        ""
      ],
      "metadata": {
        "id": "31sUn-FFtvPl"
      },
      "execution_count": null,
      "outputs": []
    }
  ]
}