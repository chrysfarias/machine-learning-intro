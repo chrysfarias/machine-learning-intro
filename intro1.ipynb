{
  "nbformat": 4,
  "nbformat_minor": 0,
  "metadata": {
    "colab": {
      "name": "Untitled0.ipynb",
      "provenance": [],
      "collapsed_sections": [],
      "authorship_tag": "ABX9TyPySwnlTkxgT0A8HhPZWVDh",
      "include_colab_link": true
    },
    "kernelspec": {
      "name": "python3",
      "display_name": "Python 3"
    },
    "language_info": {
      "name": "python"
    }
  },
  "cells": [
    {
      "cell_type": "markdown",
      "metadata": {
        "id": "view-in-github",
        "colab_type": "text"
      },
      "source": [
        "<a href=\"https://colab.research.google.com/github/chrysfarias/machine-learning-intro/blob/main/intro1.ipynb\" target=\"_parent\"><img src=\"https://colab.research.google.com/assets/colab-badge.svg\" alt=\"Open In Colab\"/></a>"
      ]
    },
    {
      "cell_type": "code",
      "execution_count": 1,
      "metadata": {
        "id": "XOXGxLv5sto4"
      },
      "outputs": [],
      "source": [
        "#features (1 yes, 0 no)\n",
        "#long fur?\n",
        "#short leg?\n",
        "#bark?\n",
        "\n",
        "pig1 = [0, 1, 0]\n",
        "pig2 = [0, 1, 1]\n",
        "pig3 = [1, 1, 0]\n",
        "\n",
        "dog1 = [0, 1, 1]\n",
        "dog2 = [1, 0, 1]\n",
        "dog3 = [1, 1, 1]\n",
        "\n",
        "# 1 => pig,  0 => dog\n",
        "\n",
        "train_x = [pig1, pig2, pig3, dog1, dog2, dog3]\n",
        "train_y = [1, 1, 1, 0, 0, 0] #labels"
      ]
    },
    {
      "cell_type": "code",
      "source": [
        "\n",
        "from sklearn.svm import LinearSVC\n",
        "\n",
        "model = LinearSVC()\n",
        "model.fit(train_x, train_y)"
      ],
      "metadata": {
        "colab": {
          "base_uri": "https://localhost:8080/"
        },
        "id": "iY9ke8tJwgEf",
        "outputId": "d5cb2c58-de5a-4c9e-ce95-ecf02d064b10"
      },
      "execution_count": 2,
      "outputs": [
        {
          "output_type": "execute_result",
          "data": {
            "text/plain": [
              "LinearSVC()"
            ]
          },
          "metadata": {},
          "execution_count": 2
        }
      ]
    },
    {
      "cell_type": "code",
      "source": [
        "mysterious_animal1 = [1, 1, 1]  \n",
        "mysterious_animal2 = [1, 1, 0]  \n",
        "mysterious_animal3 = [0, 1, 1]   \n",
        "tests_x = [mysterious_animal1, mysterious_animal2, mysterious_animal3]\n",
        "tests_y = [0,1,1]"
      ],
      "metadata": {
        "id": "IQHwH9i-0mfA"
      },
      "execution_count": 3,
      "outputs": []
    },
    {
      "cell_type": "code",
      "source": [
        "predictions = model.predict(tests_x)"
      ],
      "metadata": {
        "id": "82RoiPKy74af"
      },
      "execution_count": 4,
      "outputs": []
    },
    {
      "cell_type": "code",
      "source": [
        "correct = (predictions == tests_y).sum()  ## return the number of true\n",
        "total   = tests_y"
      ],
      "metadata": {
        "id": "Dik-Q1CHlAHZ"
      },
      "execution_count": 5,
      "outputs": []
    },
    {
      "cell_type": "code",
      "source": [
        "from sklearn.metrics import accuracy_score\n",
        "hit_rate = accuracy_score(tests_y,predictions)\n",
        "print(\"hit rate: %.2f\" %(hit_rate *100))"
      ],
      "metadata": {
        "id": "zTTangdWtWYR",
        "colab": {
          "base_uri": "https://localhost:8080/"
        },
        "outputId": "109bef6a-c0fc-476e-f6b2-1faa341ef5db"
      },
      "execution_count": 9,
      "outputs": [
        {
          "output_type": "stream",
          "name": "stdout",
          "text": [
            "hit rate: 66.67\n"
          ]
        }
      ]
    },
    {
      "cell_type": "code",
      "source": [
        ""
      ],
      "metadata": {
        "id": "31sUn-FFtvPl"
      },
      "execution_count": null,
      "outputs": []
    }
  ]
}